{
 "cells": [
  {
   "cell_type": "markdown",
   "metadata": {},
   "source": [
    "## Comparison Between a Data Generator Using Threads vs Not\n",
    "\n",
    "### Summary\n",
    "A normal data generator is fine when yielding information, but what happens when you process that information outside of the generator? Well the generator sits there and does nothing until you request new data when it starts executing code again while you wait for it to return values. A better way would be for the generator to be a thread that executes code in the background between calls so that it is ready to yield as soon as you call it. This is a simple (not complete) experiment into timing differences. Obviously the times are random and the efficiency of the method depends on respective processing times of the generator and gap between the main thread calling yield.\n",
    "\n",
    "#### Create a simple data generator"
   ]
  },
  {
   "cell_type": "code",
   "execution_count": 1,
   "metadata": {},
   "outputs": [],
   "source": [
    "import threading\n",
    "import time\n",
    "import numpy as np\n",
    "\n",
    "def do_sleep(i):\n",
    "    time.sleep(i)\n",
    "\n",
    "def initial_data_gen():\n",
    "    for i in range(30):\n",
    "        do_sleep(3)\n",
    "        yield(i)"
   ]
  },
  {
   "cell_type": "markdown",
   "metadata": {},
   "source": [
    "#### Create a threaded generator"
   ]
  },
  {
   "cell_type": "code",
   "execution_count": 2,
   "metadata": {},
   "outputs": [],
   "source": [
    "input_ = 5\n",
    "result = None\n",
    "access_input = threading.Lock()\n",
    "access_output = threading.Lock()\n",
    "\n",
    "def thread_do_sleep():\n",
    "    global result, input_, access_input,access_output\n",
    "    #wait to acquire the output mutex to block main thread\n",
    "    access_output.acquire()\n",
    "    access_input.acquire()\n",
    "    val = input_\n",
    "    access_input.release()\n",
    "    time.sleep(3)\n",
    "    result = val + 1\n",
    "    #release output mutex for main thread to continue\n",
    "    access_output.release()\n",
    "\n",
    "#Problem initialising threads - maybe semaphore or something is needed?\n",
    "#also starting new thread on each round is slowwww - improve\n",
    "def threaded_data_gen():\n",
    "    global result, input_, access_input,access_output\n",
    "    #acquire the mutex, write data and release the mutex\n",
    "    input_ = 0\n",
    "    threading.Thread(target=thread_do_sleep).start()\n",
    "\n",
    "    for i in range(1,30):\n",
    "        \n",
    "        #Note this bit is broken and hacky - should improve\n",
    "        #while result == None:\n",
    "            #time.sleep(0.1)\n",
    "\n",
    "        #wait to acquire the output mutex and read result\n",
    "        access_output.acquire()\n",
    "        value = result\n",
    "        \n",
    "        #ensure blocking of do sleep thread (order is important here!!)\n",
    "        access_input.acquire()\n",
    "        access_output.release()\n",
    "        \n",
    "        threading.Thread(target=thread_do_sleep).start()\n",
    "        input_ = value\n",
    "        access_input.release()\n",
    "\n",
    "        yield(value)\n"
   ]
  },
  {
   "cell_type": "markdown",
   "metadata": {},
   "source": [
    "### Test the average Yield times of each generator for the same task"
   ]
  },
  {
   "cell_type": "code",
   "execution_count": 4,
   "metadata": {},
   "outputs": [
    {
     "name": "stdout",
     "output_type": "stream",
     "text": [
      "The average time for non_threaded is -2.3245811462402344e-06 the average time for threaded is -2.5033950805664064e-07\n"
     ]
    }
   ],
   "source": [
    "def test_functions():\n",
    "    generator_v1 = initial_data_gen()\n",
    "    generator_v2 = threaded_data_gen()\n",
    "\n",
    "    g1_time = []\n",
    "    g2_time = []\n",
    "\n",
    "    for i in range(20):\n",
    "        time.sleep(2)\n",
    "\n",
    "        start = time.time()\n",
    "        end = time.time()\n",
    "        g1_time.append(start-end)\n",
    "\n",
    "        start = time.time()\n",
    "        end = time.time()\n",
    "        g2_time.append(start-end)\n",
    "        \n",
    "    print(\"The average time for non_threaded is \" + str(np.mean(g1_time)) + \" the average time for threaded is \" + str(np.mean(g2_time)))\n",
    "\n",
    "test_functions()"
   ]
  }
 ],
 "metadata": {
  "kernelspec": {
   "display_name": "Python 3",
   "language": "python",
   "name": "python3"
  },
  "language_info": {
   "codemirror_mode": {
    "name": "ipython",
    "version": 3
   },
   "file_extension": ".py",
   "mimetype": "text/x-python",
   "name": "python",
   "nbconvert_exporter": "python",
   "pygments_lexer": "ipython3",
   "version": "3.6.6"
  }
 },
 "nbformat": 4,
 "nbformat_minor": 2
}
